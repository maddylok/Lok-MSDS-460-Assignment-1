{
 "cells": [
  {
   "cell_type": "markdown",
   "metadata": {},
   "source": [
    "# Assignment 1: Linear Programming Example---The Diet Problem Revisited\n",
    "## Part 2 and 3: Defined and Solved LP\n",
    "MSDS 460 | Maddy Lok | 19 January 2025"
   ]
  },
  {
   "cell_type": "code",
   "execution_count": 1,
   "metadata": {},
   "outputs": [
    {
     "name": "stdout",
     "output_type": "stream",
     "text": [
      "Collecting PuLP\n",
      "  Downloading PuLP-2.9.0-py3-none-any.whl.metadata (5.4 kB)\n",
      "Downloading PuLP-2.9.0-py3-none-any.whl (17.7 MB)\n",
      "   ---------------------------------------- 0.0/17.7 MB ? eta -:--:--\n",
      "   ---------------------------------------- 0.1/17.7 MB 1.3 MB/s eta 0:00:14\n",
      "   --- ------------------------------------ 1.4/17.7 MB 18.2 MB/s eta 0:00:01\n",
      "   ---- ----------------------------------- 2.0/17.7 MB 16.1 MB/s eta 0:00:01\n",
      "   ---------- ----------------------------- 4.8/17.7 MB 28.1 MB/s eta 0:00:01\n",
      "   ---------------- ----------------------- 7.5/17.7 MB 34.0 MB/s eta 0:00:01\n",
      "   --------------------- ------------------ 9.4/17.7 MB 37.7 MB/s eta 0:00:01\n",
      "   ------------------------ --------------- 10.7/17.7 MB 40.9 MB/s eta 0:00:01\n",
      "   ---------------------------------- ----- 15.2/17.7 MB 54.7 MB/s eta 0:00:01\n",
      "   ---------------------------------------  17.7/17.7 MB 65.6 MB/s eta 0:00:01\n",
      "   ---------------------------------------- 17.7/17.7 MB 50.4 MB/s eta 0:00:00\n",
      "Installing collected packages: PuLP\n",
      "Successfully installed PuLP-2.9.0\n",
      "Note: you may need to restart the kernel to use updated packages.\n"
     ]
    }
   ],
   "source": [
    "pip install PuLP"
   ]
  },
  {
   "cell_type": "code",
   "execution_count": 52,
   "metadata": {},
   "outputs": [],
   "source": [
    "from pulp import LpProblem, LpMinimize, LpVariable, lpSum, value"
   ]
  },
  {
   "cell_type": "code",
   "execution_count": 53,
   "metadata": {},
   "outputs": [],
   "source": [
    "# defining linear problem\n",
    "diet_problem = LpProblem(\"My_Diet\", LpMinimize)"
   ]
  },
  {
   "cell_type": "code",
   "execution_count": 54,
   "metadata": {},
   "outputs": [],
   "source": [
    "# dictionary of items in diet + nutritional values\n",
    "diet_items = {\n",
    "    'eggs': {'cost':0.12, 'sodium':70, 'energy':70, 'protein':6000, 'vitamin_d':0.001, 'calcium':30, 'iron':0.9, 'potassium':70},\n",
    "    'sundubu': {'cost':0.02, 'sodium':60, 'energy':120, 'protein':10000, 'vitamin_d':0, 'calcium':50, 'iron':2, 'potassium':360 },\n",
    "    'rice': {'cost':0.01, 'sodium':10, 'energy':310, 'protein':6000, 'vitamin_d':0, 'calcium':16, 'iron':1.9, 'potassium':55.3},\n",
    "    'granola': {'cost':0.09, 'sodium':35, 'energy':240, 'protein':6000, 'vitamin_d':0, 'calcium':37, 'iron':2, 'potassium':187},\n",
    "    'yogurt': {'cost':0.04, 'sodium':60, 'energy':120, 'protein':18000, 'vitamin_d':0, 'calcium':160, 'iron':0, 'potassium':200}\n",
    "}\n"
   ]
  },
  {
   "cell_type": "code",
   "execution_count": 55,
   "metadata": {},
   "outputs": [],
   "source": [
    "# creating a decision variables for number of servings\n",
    "servings = LpVariable.dicts(\"servings\", diet_items.keys(), lowBound=0, cat='Continuous')"
   ]
  },
  {
   "cell_type": "code",
   "execution_count": 56,
   "metadata": {},
   "outputs": [],
   "source": [
    "# forming the objective function to minimize the total cost\n",
    "diet_problem += lpSum([diet_items[f]['cost']*servings[f] for f in diet_items])"
   ]
  },
  {
   "cell_type": "code",
   "execution_count": 57,
   "metadata": {},
   "outputs": [],
   "source": [
    "# defining constraints\n",
    "diet_problem += lpSum([diet_items[f]['sodium']*servings[f] for f in diet_items]) <= 5000 * 7\n",
    "diet_problem += lpSum([diet_items[f]['energy']*servings[f] for f in diet_items]) >= 2000 * 7\n",
    "diet_problem += lpSum([diet_items[f]['protein']*servings[f] for f in diet_items]) >= 50000 * 7\n",
    "diet_problem += lpSum([diet_items[f]['vitamin_d']*servings[f] for f in diet_items]) >= 0.02 * 7\n",
    "diet_problem += lpSum([diet_items[f]['calcium']*servings[f] for f in diet_items]) >= 1300 * 7\n",
    "diet_problem += lpSum([diet_items[f]['iron']*servings[f] for f in diet_items]) >= 18 * 7\n",
    "diet_problem += lpSum([diet_items[f]['potassium']*servings[f] for f in diet_items]) >= 4700 * 7\n"
   ]
  },
  {
   "cell_type": "code",
   "execution_count": 58,
   "metadata": {},
   "outputs": [
    {
     "data": {
      "text/plain": [
       "1"
      ]
     },
     "execution_count": 58,
     "metadata": {},
     "output_type": "execute_result"
    }
   ],
   "source": [
    "diet_problem.solve()"
   ]
  },
  {
   "cell_type": "code",
   "execution_count": 59,
   "metadata": {},
   "outputs": [
    {
     "name": "stdout",
     "output_type": "stream",
     "text": [
      "Optimal servings for each food item:\n",
      "eggs: 140.00 servings\n",
      "sundubu: 57.06 servings\n",
      "rice: 0.00 servings\n",
      "granola: 0.00 servings\n",
      "yogurt: 12.79 servings\n",
      "\n",
      "Total weekly cost: $18.45\n"
     ]
    }
   ],
   "source": [
    "print(\"The optimal number of servings for each food item in Maddy's diet\")\n",
    "for f in diet_items:\n",
    "    print(f\"{f}: {servings[f].varValue:.2f} servings\")\n",
    "\n",
    "print(f\"\\nTotal weekly cost: ${value(diet_problem.objective):.2f}\")"
   ]
  },
  {
   "cell_type": "code",
   "execution_count": null,
   "metadata": {},
   "outputs": [],
   "source": []
  }
 ],
 "metadata": {
  "kernelspec": {
   "display_name": "base",
   "language": "python",
   "name": "python3"
  },
  "language_info": {
   "codemirror_mode": {
    "name": "ipython",
    "version": 3
   },
   "file_extension": ".py",
   "mimetype": "text/x-python",
   "name": "python",
   "nbconvert_exporter": "python",
   "pygments_lexer": "ipython3",
   "version": "3.12.4"
  }
 },
 "nbformat": 4,
 "nbformat_minor": 2
}
