{
 "cells": [
  {
   "cell_type": "markdown",
   "metadata": {},
   "source": [
    "# Assignment 1: Linear Programming Example---The Diet Problem Revisited\n",
    "## Part 4\n",
    "MSDS 460 | Maddy Lok | 19 January 2025"
   ]
  },
  {
   "cell_type": "code",
   "execution_count": 1,
   "metadata": {},
   "outputs": [],
   "source": [
    "from pulp import LpProblem, LpMinimize, LpVariable, lpSum, value, LpStatus"
   ]
  },
  {
   "cell_type": "code",
   "execution_count": 2,
   "metadata": {},
   "outputs": [],
   "source": [
    "# defining revised LP\n",
    "diet_problem = LpProblem('My_Diet_Variety', LpMinimize)"
   ]
  },
  {
   "cell_type": "code",
   "execution_count": 3,
   "metadata": {},
   "outputs": [],
   "source": [
    "# adding food items to dictionary w/ nutritional values\n",
    "diet_items = {\n",
    "    'eggs': {'cost':0.12, 'sodium':70, 'energy':70, 'protein':6000, 'vitamin_d':0.001, 'calcium':30, 'iron':0.9, 'potassium':70},\n",
    "    'sundubu': {'cost':0.02, 'sodium':60, 'energy':120, 'protein':10000, 'vitamin_d':0, 'calcium':50, 'iron':2, 'potassium':360 },\n",
    "    'rice': {'cost':0.01, 'sodium':10, 'energy':310, 'protein':6000, 'vitamin_d':0, 'calcium':16, 'iron':1.9, 'potassium':55.3},\n",
    "    'granola': {'cost':0.09, 'sodium':35, 'energy':240, 'protein':6000, 'vitamin_d':0, 'calcium':37, 'iron':2, 'potassium':187},\n",
    "    'yogurt': {'cost':0.04, 'sodium':60, 'energy':120, 'protein':18000, 'vitamin_d':0, 'calcium':160, 'iron':0, 'potassium':200}\n",
    "}"
   ]
  },
  {
   "cell_type": "code",
   "execution_count": 5,
   "metadata": {},
   "outputs": [],
   "source": [
    "# make decision variable for number of servings\n",
    "servings = LpVariable.dicts(\"servings\", diet_items.keys(), lowBound=0, cat='Continuous')"
   ]
  },
  {
   "cell_type": "code",
   "execution_count": 6,
   "metadata": {},
   "outputs": [],
   "source": [
    "# defining objective function to minimize total cost\n",
    "diet_problem += lpSum([diet_items[f]['cost']*servings[f] for f in diet_items])"
   ]
  },
  {
   "cell_type": "code",
   "execution_count": 7,
   "metadata": {},
   "outputs": [],
   "source": [
    "# nutritional constraints\n",
    "diet_problem += lpSum([diet_items[f]['sodium']*servings[f] for f in diet_items]) <= 5000 * 7\n",
    "diet_problem += lpSum([diet_items[f]['energy']*servings[f] for f in diet_items]) >= 2000 * 7\n",
    "diet_problem += lpSum([diet_items[f]['protein']*servings[f] for f in diet_items]) >= 50000 * 7\n",
    "diet_problem += lpSum([diet_items[f]['vitamin_d']*servings[f] for f in diet_items]) >= 0.02 * 7\n",
    "diet_problem += lpSum([diet_items[f]['calcium']*servings[f] for f in diet_items]) >= 1300 * 7\n",
    "diet_problem += lpSum([diet_items[f]['iron']*servings[f] for f in diet_items]) >= 18 * 7\n",
    "diet_problem += lpSum([diet_items[f]['potassium']*servings[f] for f in diet_items]) >= 4700 * 7\n"
   ]
  },
  {
   "cell_type": "code",
   "execution_count": 8,
   "metadata": {},
   "outputs": [],
   "source": [
    "# new variety constraint\n",
    "for f in diet_items:\n",
    "    diet_problem += servings[f] >= 1"
   ]
  },
  {
   "cell_type": "code",
   "execution_count": 9,
   "metadata": {},
   "outputs": [
    {
     "data": {
      "text/plain": [
       "1"
      ]
     },
     "execution_count": 9,
     "metadata": {},
     "output_type": "execute_result"
    }
   ],
   "source": [
    "diet_problem.solve()"
   ]
  },
  {
   "cell_type": "code",
   "execution_count": 10,
   "metadata": {},
   "outputs": [
    {
     "name": "stdout",
     "output_type": "stream",
     "text": [
      "The optimal number of servings for each food item in Maddy's diet with at least one serving per week per each item:\n",
      "eggs: 140.00 servings\n",
      "sundubu: 56.47 servings\n",
      "rice: 1.00 servings\n",
      "granola: 1.00 servings\n",
      "yogurt: 12.65 servings\n",
      "\n",
      "Total weekly cost (with variety constraint): $18.54\n"
     ]
    }
   ],
   "source": [
    "print(\"The optimal number of servings for each food item in Maddy's diet with at least one serving per week per each item:\")\n",
    "for f in diet_items:\n",
    "    print(f\"{f}: {servings[f].varValue:.2f} servings\")\n",
    "    \n",
    "print(f\"\\nTotal weekly cost (with variety constraint): ${value(diet_problem.objective):.2f}\")"
   ]
  },
  {
   "cell_type": "code",
   "execution_count": null,
   "metadata": {},
   "outputs": [],
   "source": []
  }
 ],
 "metadata": {
  "kernelspec": {
   "display_name": "base",
   "language": "python",
   "name": "python3"
  },
  "language_info": {
   "codemirror_mode": {
    "name": "ipython",
    "version": 3
   },
   "file_extension": ".py",
   "mimetype": "text/x-python",
   "name": "python",
   "nbconvert_exporter": "python",
   "pygments_lexer": "ipython3",
   "version": "3.12.4"
  }
 },
 "nbformat": 4,
 "nbformat_minor": 2
}
